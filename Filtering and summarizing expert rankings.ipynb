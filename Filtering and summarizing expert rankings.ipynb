{
 "cells": [
  {
   "cell_type": "markdown",
   "metadata": {},
   "source": [
    "# Filtering and summarizing expert rankings\n",
    "\n",
    "Now that all of the expert ranking data is downloaded and saved, I use pandas to calculate mean/median rankings and then rank by position. Finally, it's all saved to a spreadsheet."
   ]
  },
  {
   "cell_type": "code",
   "execution_count": 1,
   "metadata": {
    "collapsed": true
   },
   "outputs": [],
   "source": [
    "%matplotlib inline\n",
    "\n",
    "import seaborn as sns\n",
    "import numpy as np\n",
    "import pandas as pd\n",
    "import datetime"
   ]
  },
  {
   "cell_type": "markdown",
   "metadata": {},
   "source": [
    "## Filtering experts and then trimming down the rankings pool"
   ]
  },
  {
   "cell_type": "code",
   "execution_count": 2,
   "metadata": {
    "collapsed": true
   },
   "outputs": [],
   "source": [
    "TODAYS_DATE = datetime.date.today().strftime(\"%Y_%m_%d\")\n",
    "SCORING_TYPE = 'ppr'"
   ]
  },
  {
   "cell_type": "code",
   "execution_count": 3,
   "metadata": {},
   "outputs": [
    {
     "name": "stdout",
     "output_type": "stream",
     "text": [
      "         date  draft_rank  expert_id  in_season_rank             name  \\\n",
      "0  2017-08-23       108.0          3           104.0    Eric Karabell   \n",
      "1  2017-08-23         NaN          5             NaN  Staff Composite   \n",
      "2  2017-08-25        69.0          7            65.0     Andy Behrens   \n",
      "3  2017-08-25        28.0          9            66.0  Scott Pianowski   \n",
      "4  2017-08-23        76.0         15             8.0   Staff Rankings   \n",
      "\n",
      "          source  \n",
      "0           ESPN  \n",
      "1           ESPN  \n",
      "2  Yahoo! Sports  \n",
      "3  Yahoo! Sports  \n",
      "4   ScoutFantasy  \n"
     ]
    }
   ],
   "source": [
    "expert_list_file = 'data/fp_experts_{}_{}.tsv'.format(SCORING_TYPE, TODAYS_DATE)\n",
    "expert_df = pd.read_csv(expert_list_file,sep='\\t')\n",
    "print(expert_df.head())"
   ]
  },
  {
   "cell_type": "markdown",
   "metadata": {},
   "source": [
    "First we'll compute how \"old\" each ranking is."
   ]
  },
  {
   "cell_type": "code",
   "execution_count": 4,
   "metadata": {},
   "outputs": [
    {
     "name": "stdout",
     "output_type": "stream",
     "text": [
      "        date  draft_rank  expert_id  in_season_rank             name  \\\n",
      "0 2017-08-23       108.0          3           104.0    Eric Karabell   \n",
      "1 2017-08-23         NaN          5             NaN  Staff Composite   \n",
      "2 2017-08-25        69.0          7            65.0     Andy Behrens   \n",
      "3 2017-08-25        28.0          9            66.0  Scott Pianowski   \n",
      "4 2017-08-23        76.0         15             8.0   Staff Rankings   \n",
      "\n",
      "          source  days_ago  \n",
      "0           ESPN         2  \n",
      "1           ESPN         2  \n",
      "2  Yahoo! Sports         0  \n",
      "3  Yahoo! Sports         0  \n",
      "4   ScoutFantasy         2  \n"
     ]
    }
   ],
   "source": [
    "expert_df['date'] = pd.to_datetime(expert_df['date'])\n",
    "expert_df['days_ago'] = (datetime.date.today() - expert_df['date']).dt.days\n",
    "print(expert_df.head())"
   ]
  },
  {
   "cell_type": "markdown",
   "metadata": {},
   "source": [
    "Then we'll filter on rankings age. We could also filter based on each expert's overall ranking from last year, etc., but I think the more data the better."
   ]
  },
  {
   "cell_type": "code",
   "execution_count": 5,
   "metadata": {},
   "outputs": [
    {
     "name": "stdout",
     "output_type": "stream",
     "text": [
      "82\n"
     ]
    }
   ],
   "source": [
    "filtered_experts = expert_df[expert_df['days_ago'] < 8][['expert_id','days_ago']]\n",
    "print(len(filtered_experts))"
   ]
  },
  {
   "cell_type": "code",
   "execution_count": 6,
   "metadata": {},
   "outputs": [
    {
     "name": "stdout",
     "output_type": "stream",
     "text": [
      "   expert_id        player_name position  rank team\n",
      "0          3      David Johnson       RB     1  ARI\n",
      "1          3       Le'Veon Bell       RB     2  PIT\n",
      "2          3      Antonio Brown       WR     3  PIT\n",
      "3          3  Odell Beckham Jr.       WR     4  NYG\n",
      "4          3         Mike Evans       WR     5   TB\n",
      "21793\n"
     ]
    }
   ],
   "source": [
    "expert_rankings_file = 'data/fp_rankings_{}_{}.tsv'.format(SCORING_TYPE,TODAYS_DATE)\n",
    "all_rankings = pd.read_csv(expert_rankings_file, sep='\\t')\n",
    "print(all_rankings.head())\n",
    "print(len(all_rankings))"
   ]
  },
  {
   "cell_type": "markdown",
   "metadata": {},
   "source": [
    "Now that we have all of the rankings read in, we'll filter out the old experts."
   ]
  },
  {
   "cell_type": "code",
   "execution_count": 7,
   "metadata": {},
   "outputs": [
    {
     "name": "stdout",
     "output_type": "stream",
     "text": [
      "20358\n"
     ]
    }
   ],
   "source": [
    "filtered_expert_ids = filtered_experts['expert_id'].tolist()\n",
    "filtered_rankings = all_rankings[all_rankings['expert_id'].isin(filtered_expert_ids)]\n",
    "print(len(filtered_rankings))"
   ]
  },
  {
   "cell_type": "markdown",
   "metadata": {},
   "source": [
    "Next we'll filter again based on how many rankings each player has across all the expert lists."
   ]
  },
  {
   "cell_type": "code",
   "execution_count": 8,
   "metadata": {},
   "outputs": [
    {
     "name": "stdout",
     "output_type": "stream",
     "text": [
      "player_name      team  position\n",
      "A.J. Derby       DEN   TE          14\n",
      "A.J. Green       CIN   WR          82\n",
      "Aaron Jones      GB    RB          20\n",
      "Aaron Ripkowski  GB    RB           1\n",
      "Aaron Rodgers    GB    QB          82\n",
      "dtype: int64\n",
      "459\n"
     ]
    }
   ],
   "source": [
    "ranking_counts = filtered_rankings.groupby(['player_name','team','position']).size()\n",
    "print(ranking_counts.head())\n",
    "print(len(ranking_counts))"
   ]
  },
  {
   "cell_type": "markdown",
   "metadata": {},
   "source": [
    "There are 459 different players that have at least 1 ranking. Let's make a KDE plot to see what a cut-off value is."
   ]
  },
  {
   "cell_type": "code",
   "execution_count": 9,
   "metadata": {},
   "outputs": [
    {
     "data": {
      "image/png": "[encoded data removed]",
      "text/plain": [
       "<matplotlib.figure.Figure at 0x110e39ba8>"
      ]
     },
     "metadata": {},
     "output_type": "display_data"
    }
   ],
   "source": [
    "sns.kdeplot(ranking_counts, shade=True);"
   ]
  },
  {
   "cell_type": "markdown",
   "metadata": {},
   "source": [
    "Based on this plot, it looks like appearing in 40 expert rankings is a reasonable cut-off."
   ]
  },
  {
   "cell_type": "code",
   "execution_count": 10,
   "metadata": {},
   "outputs": [
    {
     "name": "stdout",
     "output_type": "stream",
     "text": [
      "18510\n"
     ]
    }
   ],
   "source": [
    "RANKING_CUTOFF = 40\n",
    "filtered_rankings = filtered_rankings.groupby(['player_name','team','position']).filter(lambda x: len(x) > RANKING_CUTOFF)\n",
    "print(len(filtered_rankings))"
   ]
  },
  {
   "cell_type": "markdown",
   "metadata": {},
   "source": [
    "Ok, we have a pretty good dataset now, and we're only down to 18,510 observations (from 21,793 originally)."
   ]
  },
  {
   "cell_type": "code",
   "execution_count": 11,
   "metadata": {
    "collapsed": true
   },
   "outputs": [],
   "source": [
    "filtered_rankings_file = 'data/fp_rankings_{}_{}_filtered.tsv'.format(SCORING_TYPE,TODAYS_DATE)\n",
    "filtered_rankings.to_csv(filtered_rankings_file, sep='\\t', index=False)"
   ]
  },
  {
   "cell_type": "markdown",
   "metadata": {},
   "source": [
    "## Computing summary statistics on rankings"
   ]
  },
  {
   "cell_type": "code",
   "execution_count": 12,
   "metadata": {},
   "outputs": [
    {
     "name": "stdout",
     "output_type": "stream",
     "text": [
      "           player_name position team  median_rank  mean_rank\n",
      "64       David Johnson       RB  ARI          1.0   1.195122\n",
      "158       Le'Veon Bell       RB  PIT          2.0   1.841463\n",
      "14       Antonio Brown       WR  PIT          3.0   3.475610\n",
      "141        Julio Jones       WR  ATL          5.0   5.682927\n",
      "194  Odell Beckham Jr.       WR  NYG          5.0   5.756098\n"
     ]
    }
   ],
   "source": [
    "overall_ranks = filtered_rankings.groupby(['player_name', 'position','team'],\n",
    "                                     as_index=False).agg({'rank':[np.median, np.mean]})\n",
    "overall_ranks.columns = ['player_name','position','team','median_rank','mean_rank']\n",
    "overall_ranks.sort_values(['median_rank','mean_rank'], ascending=True, inplace=True)\n",
    "print(overall_ranks.head())"
   ]
  },
  {
   "cell_type": "code",
   "execution_count": 13,
   "metadata": {},
   "outputs": [
    {
     "name": "stdout",
     "output_type": "stream",
     "text": [
      "     position_rank\n",
      "64               1\n",
      "158              2\n",
      "14               1\n",
      "141              2\n",
      "194              3\n"
     ]
    }
   ],
   "source": [
    "position_ranks = overall_ranks.groupby('position')['median_rank'].rank(method='first')\n",
    "position_ranks = position_ranks.to_frame(name='position_rank')\n",
    "position_ranks['position_rank'] = position_ranks['position_rank'].astype(int)\n",
    "print(position_ranks.head())"
   ]
  },
  {
   "cell_type": "code",
   "execution_count": 14,
   "metadata": {},
   "outputs": [
    {
     "name": "stdout",
     "output_type": "stream",
     "text": [
      "           player_name position team  median_rank  mean_rank  position_rank\n",
      "64       David Johnson       RB  ARI          1.0   1.195122              1\n",
      "158       Le'Veon Bell       RB  PIT          2.0   1.841463              2\n",
      "14       Antonio Brown       WR  PIT          3.0   3.475610              1\n",
      "141        Julio Jones       WR  ATL          5.0   5.682927              2\n",
      "194  Odell Beckham Jr.       WR  NYG          5.0   5.756098              3\n",
      "160       LeSean McCoy       RB  BUF          6.0   6.073171              3\n",
      "179      Melvin Gordon       RB  LAC          8.0   8.341463              4\n",
      "182         Mike Evans       WR   TB          9.0   9.182927              4\n",
      "0           A.J. Green       WR  CIN          9.0   9.475610              5\n",
      "78     Devonta Freeman       RB  ATL          9.0   9.926829              5\n"
     ]
    }
   ],
   "source": [
    "overall_ranks = overall_ranks.join(position_ranks)\n",
    "print(overall_ranks.head(10))"
   ]
  },
  {
   "cell_type": "markdown",
   "metadata": {},
   "source": [
    "## Saving to a spreadsheet"
   ]
  },
  {
   "cell_type": "markdown",
   "metadata": {},
   "source": [
    "First, we'll save it to a machine-readable TSV file before moving on to a human-readable spreadsheet."
   ]
  },
  {
   "cell_type": "code",
   "execution_count": 15,
   "metadata": {
    "collapsed": true
   },
   "outputs": [],
   "source": [
    "overall_rankings_file = 'data/fp_rankings_{}_{}_summary.tsv'.format(SCORING_TYPE,TODAYS_DATE)\n",
    "overall_ranks.to_csv(overall_rankings_file, sep='\\t', index=False)"
   ]
  },
  {
   "cell_type": "code",
   "execution_count": 16,
   "metadata": {},
   "outputs": [],
   "source": [
    "filename = 'rankings_summary_{}_{}.xlsx'.format(SCORING_TYPE,TODAYS_DATE)\n",
    "writer = pd.ExcelWriter(filename, engine='xlsxwriter')"
   ]
  },
  {
   "cell_type": "code",
   "execution_count": 17,
   "metadata": {
    "collapsed": true
   },
   "outputs": [],
   "source": [
    "overall_ranks = overall_ranks[['player_name','position','position_rank','team','median_rank','mean_rank']]\n",
    "overall_ranks.to_excel(writer,sheet_name='Overall', index=False)"
   ]
  },
  {
   "cell_type": "code",
   "execution_count": 18,
   "metadata": {},
   "outputs": [],
   "source": [
    "for position in ['WR','RB','TE','QB','D/ST','K']:\n",
    "    position_ranks = overall_ranks[overall_ranks['position'] == position]\n",
    "    if position == 'D/ST': # Since player_name and team are redundant\n",
    "        position_ranks = position_ranks[['player_name','median_rank','mean_rank']]\n",
    "        # Excel doesn't allow slashes in sheetnames\n",
    "        position_ranks.to_excel(writer, sheet_name='DEF', index=False)\n",
    "    else:\n",
    "        position_ranks = position_ranks[['player_name','team','median_rank','mean_rank']]\n",
    "        position_ranks.to_excel(writer, sheet_name=position, index=False)\n",
    "writer.save()"
   ]
  },
  {
   "cell_type": "code",
   "execution_count": null,
   "metadata": {
    "collapsed": true
   },
   "outputs": [],
   "source": []
  }
 ],
 "metadata": {
  "anaconda-cloud": {},
  "kernelspec": {
   "display_name": "Python [default]",
   "language": "python",
   "name": "python3"
  },
  "language_info": {
   "codemirror_mode": {
    "name": "ipython",
    "version": 3
   },
   "file_extension": ".py",
   "mimetype": "text/x-python",
   "name": "python",
   "nbconvert_exporter": "python",
   "pygments_lexer": "ipython3",
   "version": "3.5.2"
  }
 },
 "nbformat": 4,
 "nbformat_minor": 2
}
